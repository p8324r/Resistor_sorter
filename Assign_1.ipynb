{
 "cells": [
  {
   "cell_type": "code",
   "execution_count": 16,
   "id": "d7763dcb",
   "metadata": {},
   "outputs": [],
   "source": [
    "import cv2\n",
    "import time\n",
    "import numpy as np\n",
    "# AIM:\n",
    "# Starts a video but don't record it.\n",
    "# Start recording when 'p' is pressed.\n",
    "# After 5~6 seconds , red rectangle of dimension 40 x 40 with 'Pratyush R' should appear.\n",
    "# Window closes when 'q' is pressed and also stops recording."
   ]
  },
  {
   "cell_type": "code",
   "execution_count": 17,
   "id": "029b1ecf",
   "metadata": {},
   "outputs": [],
   "source": [
    "cap = cv2.VideoCapture(0)\n",
    "fourcc = cv2.VideoWriter_fourcc(*'MJPG')\n",
    "recv = cv2.VideoWriter('Record.avi',fourcc,20.0,(int(cap.get(3)),int(cap.get(4))))"
   ]
  },
  {
   "cell_type": "code",
   "execution_count": 18,
   "id": "422f9378",
   "metadata": {},
   "outputs": [],
   "source": [
    "k = 0\n",
    "start_time = 0\n",
    "l = 0\n",
    "while(True):\n",
    "    ret, frame = cap.read()\n",
    "    if ret is True:\n",
    "        cv2.imshow('frame',frame)\n",
    "        if cv2.waitKey(1) & 0xFF == ord('p'):\n",
    "            start_time = int(time.time())\n",
    "            while cv2.waitKey(1) & 0xFF != ord('q'):\n",
    "                ret2,frame2 = cap.read()\n",
    "                k = 1\n",
    "                if int(time.time())-start_time < 5:\n",
    "                    cv2.imshow('frame',frame2)\n",
    "                    recv.write(frame2)\n",
    "                else:\n",
    "                    centX = int(cap.get(3))//2\n",
    "                    centY = int(cap.get(4))//2\n",
    "                    p1 = (centX-20,centY-20)\n",
    "                    p2 = (centX+20,centY+20)\n",
    "                    frame2 = cv2.rectangle(frame2,p1,p2,(0,0,255),-1)\n",
    "                    text = 'Pratyush R'\n",
    "                    font = cv2.FONT_HERSHEY_SIMPLEX\n",
    "                    cv2.putText(frame2,text,(centX-10,centY+10),font,0.5,(255,255,255))\n",
    "                    cv2.imshow('frame',frame2)\n",
    "                    recv.write(frame2)\n",
    "        if k == 1 or cv2.waitKey(1) & 0xFF == ord('q'):\n",
    "            break\n",
    "    else:\n",
    "        break\n",
    "cap.release()\n",
    "recv.release()\n",
    "cv2.destroyAllWindows()"
   ]
  },
  {
   "cell_type": "code",
   "execution_count": null,
   "id": "0007dfcd",
   "metadata": {},
   "outputs": [],
   "source": []
  }
 ],
 "metadata": {
  "kernelspec": {
   "display_name": "Python 3 (ipykernel)",
   "language": "python",
   "name": "python3"
  },
  "language_info": {
   "codemirror_mode": {
    "name": "ipython",
    "version": 3
   },
   "file_extension": ".py",
   "mimetype": "text/x-python",
   "name": "python",
   "nbconvert_exporter": "python",
   "pygments_lexer": "ipython3",
   "version": "3.9.13"
  }
 },
 "nbformat": 4,
 "nbformat_minor": 5
}
